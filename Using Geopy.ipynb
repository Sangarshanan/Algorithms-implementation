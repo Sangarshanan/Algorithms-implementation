{
 "cells": [
  {
   "cell_type": "code",
   "execution_count": 30,
   "metadata": {},
   "outputs": [],
   "source": [
    "from geopy.geocoders import Nominatim\n",
    "geolocator = Nominatim(user_agent=\"specify_your_app_name_here\")\n",
    "location = geolocator.reverse(\"12.9279, 77.6271\")"
   ]
  },
  {
   "cell_type": "code",
   "execution_count": 31,
   "metadata": {},
   "outputs": [
    {
     "data": {
      "text/plain": [
       "{'place_id': '16399800',\n",
       " 'licence': 'Data © OpenStreetMap contributors, ODbL 1.0. https://osm.org/copyright',\n",
       " 'osm_type': 'node',\n",
       " 'osm_id': '1463840682',\n",
       " 'lat': '12.9275691',\n",
       " 'lon': '77.6268873',\n",
       " 'display_name': 'Postoffice Playground, 12th Main Road, Koramangala 2nd Block, Koramangala, South Zone, Bengaluru, Bangalore Urban, Karnataka, - 560034, India',\n",
       " 'address': {'pitch': 'Postoffice Playground',\n",
       "  'road': '12th Main Road',\n",
       "  'neighbourhood': 'Koramangala 2nd Block',\n",
       "  'suburb': 'Koramangala',\n",
       "  'city_district': 'South Zone',\n",
       "  'city': 'Bengaluru',\n",
       "  'county': 'Bangalore Urban',\n",
       "  'state_district': 'Bangalore Urban',\n",
       "  'state': 'Karnataka',\n",
       "  'postcode': '- 560034',\n",
       "  'country': 'India',\n",
       "  'country_code': 'in'},\n",
       " 'boundingbox': ['12.9274691', '12.9276691', '77.6267873', '77.6269873']}"
      ]
     },
     "execution_count": 31,
     "metadata": {},
     "output_type": "execute_result"
    }
   ],
   "source": [
    "location.raw"
   ]
  },
  {
   "cell_type": "markdown",
   "metadata": {},
   "source": [
    "## Latlong to Pincode"
   ]
  },
  {
   "cell_type": "code",
   "execution_count": 37,
   "metadata": {},
   "outputs": [
    {
     "name": "stdout",
     "output_type": "stream",
     "text": [
      "PINCODE FOR THE GIVEN LATLONG IS:  560034\n"
     ]
    }
   ],
   "source": [
    "print(\"PINCODE FOR THE GIVEN LATLONG IS:\",location.raw['address']['postcode'][1:])"
   ]
  },
  {
   "cell_type": "markdown",
   "metadata": {},
   "source": [
    "# Distance between latlong\n",
    "\n",
    "## Geodesic Distance:\n",
    "\n",
    "A geodesic line is the shortest path between two points on a curved surface, like the Earth. They are the analogue of a straight line on a plane surface or whose sectioning plane at all points along the line remains normal to the surface. It is a way of showing distance on an ellipsoid whilst that distance is being projected onto a flat surface.\n",
    "\n",
    "\n",
    "## Great Circle Distance:\n",
    "\n",
    "\n",
    "The largest circle that can be drawn on the sphere surface is the great circle. The shortest distance between any two points on the sphere surface is the Great Circle distance. Historically, the Great circle is also called as an Orthodrome or Romanian Circle.The diameter of any sphere coincides with the diameter of the great circle. The great circle is used in the navigation of ship or aircraft. The idea that is the Earth is somewhat spherical helps in navigating as we come to know for the shortest distance in the sphere.\n",
    "\n",
    "\n",
    "## Distance between koramangala and electronic city"
   ]
  },
  {
   "cell_type": "code",
   "execution_count": 45,
   "metadata": {},
   "outputs": [
    {
     "name": "stdout",
     "output_type": "stream",
     "text": [
      "11.140432298924072 kms\n"
     ]
    }
   ],
   "source": [
    "from geopy.distance import geodesic\n",
    "koram = (12.9279, 77.6271)\n",
    "e_city = (12.8399, 77.6770)\n",
    "print(geodesic(koram, e_city).miles* 1.60934,\"kms\")"
   ]
  },
  {
   "cell_type": "code",
   "execution_count": 46,
   "metadata": {},
   "outputs": [
    {
     "name": "stdout",
     "output_type": "stream",
     "text": [
      "11.180586829601644 kms\n"
     ]
    }
   ],
   "source": [
    "from geopy.distance import great_circle\n",
    "koram = (12.9279, 77.6271)\n",
    "e_city = (12.8399, 77.6770)\n",
    "print(great_circle(koram, e_city).miles* 1.60934,\"kms\")"
   ]
  }
 ],
 "metadata": {
  "kernelspec": {
   "display_name": "Python 3",
   "language": "python",
   "name": "python3"
  },
  "language_info": {
   "codemirror_mode": {
    "name": "ipython",
    "version": 3
   },
   "file_extension": ".py",
   "mimetype": "text/x-python",
   "name": "python",
   "nbconvert_exporter": "python",
   "pygments_lexer": "ipython3",
   "version": "3.7.1"
  }
 },
 "nbformat": 4,
 "nbformat_minor": 2
}
