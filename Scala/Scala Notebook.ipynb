{
 "cells": [
  {
   "cell_type": "markdown",
   "metadata": {},
   "source": [
    "#  SCALA PROGRAMMING\n",
    "\n",
    "Scala is a modern multi-paradigm programming language designed to express common programming patterns in a concise, elegant, and type-safe way. Scala has been created by Martin Odersky and he released the first version in 2003. Scala smoothly integrates the features of object-oriented and functional languages."
   ]
  },
  {
   "cell_type": "code",
   "execution_count": 1,
   "metadata": {},
   "outputs": [
    {
     "name": "stdout",
     "output_type": "stream",
     "text": [
      "Hello, Scala!\n"
     ]
    },
    {
     "data": {
      "text/plain": []
     },
     "metadata": {},
     "output_type": "display_data"
    }
   ],
   "source": [
    "println(\"Hello, Scala!\");"
   ]
  },
  {
   "cell_type": "markdown",
   "metadata": {},
   "source": [
    "### Scala Functions"
   ]
  },
  {
   "cell_type": "code",
   "execution_count": 2,
   "metadata": {},
   "outputs": [
    {
     "data": {
      "text/plain": [
       "defined \u001b[32mfunction \u001b[36maddInt\u001b[0m"
      ]
     },
     "metadata": {},
     "output_type": "display_data"
    }
   ],
   "source": [
    "def addInt( a:Int, b:Int ) : Int = {\n",
    "  return a+b\n",
    "}"
   ]
  },
  {
   "cell_type": "code",
   "execution_count": 3,
   "metadata": {},
   "outputs": [
    {
     "data": {
      "text/plain": [
       "\u001b[36mres1\u001b[0m: Int = \u001b[32m3\u001b[0m"
      ]
     },
     "metadata": {},
     "output_type": "display_data"
    }
   ],
   "source": [
    "addInt(1,2)"
   ]
  },
  {
   "cell_type": "markdown",
   "metadata": {},
   "source": [
    "### Anonymous Functions\n",
    "\n",
    "Scala supports first-class functions, which means functions can be expressed in function literal syntax, i.e., (x: Int) => x + 1, and that functions can be represented by objects, which are called function values."
   ]
  },
  {
   "cell_type": "code",
   "execution_count": 31,
   "metadata": {},
   "outputs": [
    {
     "data": {
      "text/plain": [
       "\u001b[36mmul\u001b[0m: (Int, Int) => Int = <function2>"
      ]
     },
     "metadata": {},
     "output_type": "display_data"
    }
   ],
   "source": [
    "var mul = (x: Int, y: Int) => x*y"
   ]
  },
  {
   "cell_type": "code",
   "execution_count": 32,
   "metadata": {},
   "outputs": [
    {
     "data": {
      "text/plain": [
       "\u001b[36mres18\u001b[0m: Int = \u001b[32m12\u001b[0m"
      ]
     },
     "metadata": {},
     "output_type": "display_data"
    }
   ],
   "source": [
    "mul(4,3)"
   ]
  },
  {
   "cell_type": "markdown",
   "metadata": {},
   "source": [
    "### Higher Order Functions\n",
    "\n",
    "Functional languages treat functions as\n",
    "first-class values\n",
    ".\n",
    "This means that, like any other value, a function can be passed as a\n",
    "parameter and returned as a result.\n",
    "This provides a flexible way to compose programs.\n",
    "Functions that take other functions as parameters or that return\n",
    "functions as results are called\n",
    "higher order functions\n"
   ]
  },
  {
   "cell_type": "code",
   "execution_count": 5,
   "metadata": {},
   "outputs": [
    {
     "data": {
      "text/plain": [
       "defined \u001b[32mfunction \u001b[36msum\u001b[0m"
      ]
     },
     "metadata": {},
     "output_type": "display_data"
    }
   ],
   "source": [
    "// SAME FUNCTION CAN BE REUSED FOR DIFFERENT OPERATIONS\n",
    "def sum(f: Int => Int)(a: Int, b: Int): Int = {\n",
    "  def loop(a: Int, acc: Int): Int = {\n",
    "    if (a > b) acc\n",
    "    else loop(a+1, f(a)+acc)\n",
    "  }\n",
    "  loop(a, 0)\n",
    "}"
   ]
  },
  {
   "cell_type": "code",
   "execution_count": 11,
   "metadata": {},
   "outputs": [
    {
     "data": {
      "text/plain": [
       "\u001b[36mres7\u001b[0m: Int = \u001b[32m24\u001b[0m"
      ]
     },
     "metadata": {},
     "output_type": "display_data"
    }
   ],
   "source": [
    "//  SUM OF SUMS (3+3+4+4+5+5)\n",
    "sum(x=>x+x)(3,5)"
   ]
  },
  {
   "cell_type": "code",
   "execution_count": 10,
   "metadata": {},
   "outputs": [
    {
     "data": {
      "text/plain": [
       "\u001b[36mres6\u001b[0m: Int = \u001b[32m50\u001b[0m"
      ]
     },
     "metadata": {},
     "output_type": "display_data"
    }
   ],
   "source": [
    "// SUMS OF PRODUCT  (3*3)+(4*4)+(5*5)\n",
    "sum(x=>x*x)(3,5)"
   ]
  },
  {
   "cell_type": "markdown",
   "metadata": {},
   "source": [
    "### Currying\n",
    "\n",
    "The definition of functions that return functions is so useful in functional\n",
    "programming that there is a special syntax for it in Scala"
   ]
  },
  {
   "cell_type": "code",
   "execution_count": 14,
   "metadata": {},
   "outputs": [
    {
     "data": {
      "text/plain": [
       "defined \u001b[32mfunction \u001b[36mmapreduce\u001b[0m"
      ]
     },
     "metadata": {},
     "output_type": "display_data"
    }
   ],
   "source": [
    "def mapreduce(f: Int=>Int, combine: (Int,Int)=>Int, Zero:Int)(a:Int,b:Int): Int = \n",
    "    if(a>b) Zero\n",
    "    else combine(f(a),mapreduce(f,combine,Zero)(a+1,b))"
   ]
  },
  {
   "cell_type": "code",
   "execution_count": 23,
   "metadata": {},
   "outputs": [
    {
     "data": {
      "text/plain": [
       "defined \u001b[32mfunction \u001b[36mproduct\u001b[0m\n",
       "\u001b[36mres14_1\u001b[0m: Int = \u001b[32m144\u001b[0m"
      ]
     },
     "metadata": {},
     "output_type": "display_data"
    }
   ],
   "source": [
    "def product(f: Int=>Int)(a:Int,b:Int):Int = mapreduce(f,(x,y)=>x*y,1)(a,b)\n",
    "\n",
    "product(x=>x*x)(3,4)\n",
    "// (4*3)*(4*3)"
   ]
  },
  {
   "cell_type": "markdown",
   "metadata": {},
   "source": [
    "Factorial using currying"
   ]
  },
  {
   "cell_type": "code",
   "execution_count": 19,
   "metadata": {},
   "outputs": [
    {
     "data": {
      "text/plain": [
       "defined \u001b[32mfunction \u001b[36mfact\u001b[0m\n",
       "\u001b[36mres10_1\u001b[0m: Int = \u001b[32m120\u001b[0m"
      ]
     },
     "metadata": {},
     "output_type": "display_data"
    }
   ],
   "source": [
    "def fact(n:Int) = product(x=>x)(1,n)\n",
    "\n",
    "fact(5)\n",
    "//1*2*3*4*5"
   ]
  },
  {
   "cell_type": "markdown",
   "metadata": {},
   "source": [
    "### Scala Classes and Objects\n",
    "\n",
    "We can use scala to define classes, Once you define a class, you can create objects from the class blueprint with the keyword new. Through the object you can use all functionalities of the defined class.\n",
    "\n",
    "You can extend a base Scala class and you can design an inherited class in the same way you do it in Java (use extends key word), but there are two restrictions: method overriding requires the override keyword, and only the primary constructor can pass parameters to the base constructor. Let us extend our above class and add one more class method."
   ]
  },
  {
   "cell_type": "code",
   "execution_count": 43,
   "metadata": {},
   "outputs": [
    {
     "data": {
      "text/plain": [
       "defined \u001b[32mclass \u001b[36mrational\u001b[0m"
      ]
     },
     "metadata": {},
     "output_type": "display_data"
    }
   ],
   "source": [
    "class rational(x: Int, y:Int){\n",
    "    def numerator = x\n",
    "    def denominator = y\n",
    "}"
   ]
  },
  {
   "cell_type": "code",
   "execution_count": 13,
   "metadata": {},
   "outputs": [
    {
     "data": {
      "text/plain": [
       "defined \u001b[32mobject \u001b[36mdivide\u001b[0m"
      ]
     },
     "metadata": {},
     "output_type": "display_data"
    }
   ],
   "source": [
    "object divide{\n",
    "    val x = new rational(1,2)\n",
    "    val y = x.numerator/x.denominator \n",
    "}"
   ]
  },
  {
   "cell_type": "code",
   "execution_count": 44,
   "metadata": {},
   "outputs": [
    {
     "name": "stdout",
     "output_type": "stream",
     "text": [
      "4\n",
      "2\n"
     ]
    },
    {
     "data": {
      "text/plain": [
       "\u001b[36mx\u001b[0m: cmd24.INSTANCE.$ref$cmd23.rational = cmd23$$user$rational@167acc9e\n",
       "\u001b[36my\u001b[0m: Int = \u001b[32m2\u001b[0m"
      ]
     },
     "metadata": {},
     "output_type": "display_data"
    }
   ],
   "source": [
    "// CREATE AN OBJECT OF THE CLASS USING KEYWORD NEW\n",
    "val x = new rational(4,2)\n",
    "val y = x.numerator/x.denominator\n",
    "println(x.numerator)\n",
    "println(x.denominator)"
   ]
  },
  {
   "cell_type": "markdown",
   "metadata": {
    "collapsed": true
   },
   "source": [
    "The above example is a basic example of how classes in scala work , very similar to java ans other languages"
   ]
  },
  {
   "cell_type": "markdown",
   "metadata": {},
   "source": [
    "### Scala Method\n",
    "\n",
    "A Scala method is a part of a class which has a name, a signature, optionally some annotations, and some bytecode where as a function in Scala is a complete object which can be assigned to a variable."
   ]
  },
  {
   "cell_type": "code",
   "execution_count": 62,
   "metadata": {},
   "outputs": [
    {
     "data": {
      "text/plain": [
       "defined \u001b[32mclass \u001b[36mrational\u001b[0m"
      ]
     },
     "metadata": {},
     "output_type": "display_data"
    }
   ],
   "source": [
    "// IMPLEMENTING FRACTIONAL ADDITION\n",
    "class rational(x: Int, y:Int){\n",
    "    def numer = x\n",
    "    def denom = y\n",
    "    \n",
    "    def add(that: rational) = \n",
    "        new rational(\n",
    "            numer*that.denom + that.numer*denom, \n",
    "            denom * that.denom)\n",
    "    def makestring = numer + \"/\" + denom\n",
    "}"
   ]
  },
  {
   "cell_type": "code",
   "execution_count": 69,
   "metadata": {},
   "outputs": [
    {
     "data": {
      "text/plain": [
       "\u001b[36mx\u001b[0m: cmd37.INSTANCE.$ref$cmd33.rational = cmd33$$user$rational@3eedd14b\n",
       "\u001b[36mres37_1\u001b[0m: Int = \u001b[32m1\u001b[0m\n",
       "\u001b[36mres37_2\u001b[0m: Int = \u001b[32m2\u001b[0m\n",
       "\u001b[36my\u001b[0m: cmd37.INSTANCE.$ref$cmd33.rational = cmd33$$user$rational@13ea0810\n",
       "\u001b[36mz\u001b[0m: cmd37.INSTANCE.$ref$cmd33.rational = cmd33$$user$rational@4c1cb9d4\n",
       "\u001b[36mres37_5\u001b[0m: java.lang.String = \u001b[32m\"7/6\"\u001b[0m"
      ]
     },
     "metadata": {},
     "output_type": "display_data"
    }
   ],
   "source": [
    "val x = new rational(1,2)\n",
    "x.numer\n",
    "x.denom\n",
    "\n",
    "val y = new rational(2,3)\n",
    "val z = x.add(y)\n",
    "z.makestring"
   ]
  },
  {
   "cell_type": "markdown",
   "metadata": {},
   "source": [
    "### Require \n",
    "\n",
    "Require\n",
    "is a predefined function.\n",
    "It takes a condition and an optional message string.\n",
    "If the condition passed to\n",
    "require\n",
    "is\n",
    "false\n",
    ", an\n",
    "IllegalArgumentException\n",
    "is thrown with the given message string."
   ]
  },
  {
   "cell_type": "code",
   "execution_count": 76,
   "metadata": {},
   "outputs": [
    {
     "data": {
      "text/plain": [
       "defined \u001b[32mfunction \u001b[36mdivide\u001b[0m"
      ]
     },
     "metadata": {},
     "output_type": "display_data"
    }
   ],
   "source": [
    "def divide(a:Int, b:Int){\n",
    "    require(b!=0,\"Non zero Denominator\")\n",
    "    print(a/b)\n",
    "}"
   ]
  },
  {
   "cell_type": "code",
   "execution_count": 78,
   "metadata": {},
   "outputs": [
    {
     "ename": "",
     "evalue": "",
     "output_type": "error",
     "traceback": [
      "java.lang.IllegalArgumentException: requirement failed: Non zero Denominator",
      "\tscala.Predef$.require(Predef.scala:233)",
      "\tcmd44$$user.divide(Main.scala:143)",
      "\tcmd46$$user$$anonfun$1.apply$mcV$sp(Main.scala:146)"
     ]
    }
   ],
   "source": [
    "divide(2,0)"
   ]
  },
  {
   "cell_type": "markdown",
   "metadata": {},
   "source": [
    "### Auxiliary Constructors\n",
    "In Scala, We can define Auxiliary Constructors like methods by using “def” and “this” keywords. “this” is the constructor name.\n",
    "Auxiliary Constructor is also know as Secondary Constructor. A Scala class can contain zero or one or more Auxiliary Constructors."
   ]
  },
  {
   "cell_type": "code",
   "execution_count": 80,
   "metadata": {},
   "outputs": [
    {
     "data": {
      "text/plain": [
       "defined \u001b[32mclass \u001b[36mEmployee1\u001b[0m"
      ]
     },
     "metadata": {},
     "output_type": "display_data"
    }
   ],
   "source": [
    "class Employee1(val empId : Int, val empName:String){\t\n",
    "    println(\"From Primary Constructor\")\t\n",
    "    def this(){\n",
    "        this(0,null)\n",
    "        println(\"From Zero-Argument Auxiliary Constructor\")\n",
    "    }\n",
    "}"
   ]
  },
  {
   "cell_type": "code",
   "execution_count": 81,
   "metadata": {},
   "outputs": [
    {
     "name": "stdout",
     "output_type": "stream",
     "text": [
      "From Primary Constructor\n",
      "From Zero-Argument Auxiliary Constructor\n"
     ]
    },
    {
     "data": {
      "text/plain": [
       "\u001b[36memp1\u001b[0m: cmd49.INSTANCE.$ref$cmd48.Employee1 = cmd48$$user$Employee1@6db529aa"
      ]
     },
     "metadata": {},
     "output_type": "display_data"
    }
   ],
   "source": [
    "val emp1 = new Employee1() "
   ]
  },
  {
   "cell_type": "markdown",
   "metadata": {},
   "source": [
    "By observing this output, we can say that Zero-Argument Auxiliary Constructor made a call to Primary Constructor. So it executes first Primary Constructor, then Zero-Argument Auxiliary Constructor. Because Auxiliary Constructor contains a call to Primary Constructor."
   ]
  },
  {
   "cell_type": "code",
   "execution_count": null,
   "metadata": {
    "collapsed": true
   },
   "outputs": [],
   "source": []
  },
  {
   "cell_type": "code",
   "execution_count": null,
   "metadata": {
    "collapsed": true
   },
   "outputs": [],
   "source": []
  },
  {
   "cell_type": "code",
   "execution_count": null,
   "metadata": {
    "collapsed": true
   },
   "outputs": [],
   "source": []
  },
  {
   "cell_type": "code",
   "execution_count": null,
   "metadata": {
    "collapsed": true
   },
   "outputs": [],
   "source": []
  },
  {
   "cell_type": "code",
   "execution_count": null,
   "metadata": {
    "collapsed": true
   },
   "outputs": [],
   "source": []
  },
  {
   "cell_type": "code",
   "execution_count": null,
   "metadata": {
    "collapsed": true
   },
   "outputs": [],
   "source": []
  },
  {
   "cell_type": "code",
   "execution_count": null,
   "metadata": {
    "collapsed": true
   },
   "outputs": [],
   "source": []
  }
 ],
 "metadata": {
  "kernelspec": {
   "display_name": "Scala 2.10",
   "language": "scala210",
   "name": "scala210"
  },
  "language_info": {
   "codemirror_mode": "text/x-scala",
   "file_extension": "scala",
   "mimetype": "text/x-scala",
   "name": "scala210",
   "pygments_lexer": "scala",
   "version": "2.10.5"
  }
 },
 "nbformat": 4,
 "nbformat_minor": 2
}
