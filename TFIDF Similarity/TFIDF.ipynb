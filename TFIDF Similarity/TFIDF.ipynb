{
 "cells": [
  {
   "cell_type": "markdown",
   "metadata": {},
   "source": [
    "# TFIDF and Sentence Similarity\n",
    "\n",
    "Problem: https://www.hackerrank.com/challenges/nlp-similarity-scores/problemhttps://www.hackerrank.com/challenges/nlp-similarity-scores/problem"
   ]
  },
  {
   "cell_type": "code",
   "execution_count": 12,
   "metadata": {
    "collapsed": true
   },
   "outputs": [],
   "source": [
    "a = \"I'd like an apple\"\n",
    "b = 'An apple a day keeps the doctor away'\n",
    "c = 'Never compare an apple to an orange'\n",
    "d = 'I prefer scikit-learn to orange'"
   ]
  },
  {
   "cell_type": "markdown",
   "metadata": {},
   "source": [
    "## TF: Term Frequency:\n",
    "\n",
    "TF measures how frequently a term occurs in a document. Since every document is different in length, it is possible that a term would appear much more times in long documents than shorter ones. Thus, the term frequency is often divided by the document length (aka. the total number of terms in the document) as a way of normalization: \n",
    "\n",
    "TF(t) = (Number of times term t appears in a document) / (Total number of terms in the document).\n",
    "\n"
   ]
  },
  {
   "cell_type": "code",
   "execution_count": 111,
   "metadata": {},
   "outputs": [],
   "source": [
    "k=[]\n",
    "k.append(a)\n",
    "k.append(b)\n",
    "k.append(c)\n",
    "k.append(d)\n",
    "k = [i.lower() for i in k]"
   ]
  },
  {
   "cell_type": "code",
   "execution_count": 24,
   "metadata": {},
   "outputs": [],
   "source": [
    "elements = a +' '+ b+' '+ c +' ' + d\n",
    "e = elements.split(' ')\n",
    "e = [i.lower() for i in e]"
   ]
  },
  {
   "cell_type": "code",
   "execution_count": 30,
   "metadata": {},
   "outputs": [],
   "source": [
    "def tf(lis,elem):\n",
    "    no = lis.count(elem)\n",
    "    return no/len(lis)"
   ]
  },
  {
   "cell_type": "markdown",
   "metadata": {},
   "source": [
    "## IDF: Inverse Document Frequency:\n",
    "\n",
    "IDF measures how important a term is. While computing TF, all terms are considered equally important. However it is known that certain terms, such as \"is\", \"of\", and \"that\", may appear a lot of times but have little importance. Thus we need to weigh down the frequent terms while scale up the rare ones, by computing the following: \n",
    "\n",
    "IDF(t) = log(Total number of documents / Number of documents with term t in it).\n",
    "\n"
   ]
  },
  {
   "cell_type": "code",
   "execution_count": 200,
   "metadata": {},
   "outputs": [],
   "source": [
    "import math\n",
    "def idf(k,e,elem):\n",
    "    count = 0\n",
    "    n = len(k)\n",
    "    for i in k:\n",
    "        if elem in i:\n",
    "            count+=1\n",
    "    return 1+ math.log10(len(k)/count)    "
   ]
  },
  {
   "cell_type": "code",
   "execution_count": 201,
   "metadata": {},
   "outputs": [],
   "source": [
    "import pandas as pd\n",
    "df = pd.DataFrame()"
   ]
  },
  {
   "cell_type": "code",
   "execution_count": 202,
   "metadata": {},
   "outputs": [],
   "source": [
    "TF=[]\n",
    "IDF = []\n",
    "e = list(set(e))\n",
    "for i in e:\n",
    "    TF.append(tf(elements,i))\n",
    "    IDF.append(idf(k,e,i))\n",
    "T = pd.Series(TF)\n",
    "W = pd.Series(e)\n",
    "I = pd.Series(IDF)"
   ]
  },
  {
   "cell_type": "code",
   "execution_count": 203,
   "metadata": {},
   "outputs": [],
   "source": [
    "df['Words'] = W.values\n",
    "df['TF'] = T.values\n",
    "df['IDF'] = I.values"
   ]
  },
  {
   "cell_type": "code",
   "execution_count": 204,
   "metadata": {},
   "outputs": [],
   "source": [
    "df['TFIDF'] = df['TF'] * df['IDF']"
   ]
  },
  {
   "cell_type": "code",
   "execution_count": 205,
   "metadata": {},
   "outputs": [
    {
     "data": {
      "text/html": [
       "<div>\n",
       "<style>\n",
       "    .dataframe thead tr:only-child th {\n",
       "        text-align: right;\n",
       "    }\n",
       "\n",
       "    .dataframe thead th {\n",
       "        text-align: left;\n",
       "    }\n",
       "\n",
       "    .dataframe tbody tr th {\n",
       "        vertical-align: top;\n",
       "    }\n",
       "</style>\n",
       "<table border=\"1\" class=\"dataframe\">\n",
       "  <thead>\n",
       "    <tr style=\"text-align: right;\">\n",
       "      <th></th>\n",
       "      <th>Words</th>\n",
       "      <th>TF</th>\n",
       "      <th>IDF</th>\n",
       "      <th>TFIDF</th>\n",
       "    </tr>\n",
       "  </thead>\n",
       "  <tbody>\n",
       "    <tr>\n",
       "      <th>0</th>\n",
       "      <td>apple</td>\n",
       "      <td>0.024590</td>\n",
       "      <td>1.124939</td>\n",
       "      <td>0.027662</td>\n",
       "    </tr>\n",
       "    <tr>\n",
       "      <th>1</th>\n",
       "      <td>never</td>\n",
       "      <td>0.000000</td>\n",
       "      <td>1.602060</td>\n",
       "      <td>0.000000</td>\n",
       "    </tr>\n",
       "    <tr>\n",
       "      <th>2</th>\n",
       "      <td>day</td>\n",
       "      <td>0.008197</td>\n",
       "      <td>1.602060</td>\n",
       "      <td>0.013132</td>\n",
       "    </tr>\n",
       "    <tr>\n",
       "      <th>3</th>\n",
       "      <td>keeps</td>\n",
       "      <td>0.008197</td>\n",
       "      <td>1.602060</td>\n",
       "      <td>0.013132</td>\n",
       "    </tr>\n",
       "    <tr>\n",
       "      <th>4</th>\n",
       "      <td>like</td>\n",
       "      <td>0.008197</td>\n",
       "      <td>1.602060</td>\n",
       "      <td>0.013132</td>\n",
       "    </tr>\n",
       "    <tr>\n",
       "      <th>5</th>\n",
       "      <td>away</td>\n",
       "      <td>0.008197</td>\n",
       "      <td>1.602060</td>\n",
       "      <td>0.013132</td>\n",
       "    </tr>\n",
       "    <tr>\n",
       "      <th>6</th>\n",
       "      <td>compare</td>\n",
       "      <td>0.008197</td>\n",
       "      <td>1.602060</td>\n",
       "      <td>0.013132</td>\n",
       "    </tr>\n",
       "    <tr>\n",
       "      <th>7</th>\n",
       "      <td>an</td>\n",
       "      <td>0.040984</td>\n",
       "      <td>1.000000</td>\n",
       "      <td>0.040984</td>\n",
       "    </tr>\n",
       "    <tr>\n",
       "      <th>8</th>\n",
       "      <td>prefer</td>\n",
       "      <td>0.008197</td>\n",
       "      <td>1.602060</td>\n",
       "      <td>0.013132</td>\n",
       "    </tr>\n",
       "    <tr>\n",
       "      <th>9</th>\n",
       "      <td>scikit-learn</td>\n",
       "      <td>0.008197</td>\n",
       "      <td>1.602060</td>\n",
       "      <td>0.013132</td>\n",
       "    </tr>\n",
       "    <tr>\n",
       "      <th>10</th>\n",
       "      <td>doctor</td>\n",
       "      <td>0.008197</td>\n",
       "      <td>1.602060</td>\n",
       "      <td>0.013132</td>\n",
       "    </tr>\n",
       "    <tr>\n",
       "      <th>11</th>\n",
       "      <td>i'd</td>\n",
       "      <td>0.000000</td>\n",
       "      <td>1.602060</td>\n",
       "      <td>0.000000</td>\n",
       "    </tr>\n",
       "    <tr>\n",
       "      <th>12</th>\n",
       "      <td>orange</td>\n",
       "      <td>0.016393</td>\n",
       "      <td>1.301030</td>\n",
       "      <td>0.021328</td>\n",
       "    </tr>\n",
       "    <tr>\n",
       "      <th>13</th>\n",
       "      <td>a</td>\n",
       "      <td>0.114754</td>\n",
       "      <td>1.000000</td>\n",
       "      <td>0.114754</td>\n",
       "    </tr>\n",
       "    <tr>\n",
       "      <th>14</th>\n",
       "      <td>the</td>\n",
       "      <td>0.008197</td>\n",
       "      <td>1.602060</td>\n",
       "      <td>0.013132</td>\n",
       "    </tr>\n",
       "    <tr>\n",
       "      <th>15</th>\n",
       "      <td>i</td>\n",
       "      <td>0.024590</td>\n",
       "      <td>1.301030</td>\n",
       "      <td>0.031993</td>\n",
       "    </tr>\n",
       "    <tr>\n",
       "      <th>16</th>\n",
       "      <td>to</td>\n",
       "      <td>0.024590</td>\n",
       "      <td>1.124939</td>\n",
       "      <td>0.027662</td>\n",
       "    </tr>\n",
       "  </tbody>\n",
       "</table>\n",
       "</div>"
      ],
      "text/plain": [
       "           Words        TF       IDF     TFIDF\n",
       "0          apple  0.024590  1.124939  0.027662\n",
       "1          never  0.000000  1.602060  0.000000\n",
       "2            day  0.008197  1.602060  0.013132\n",
       "3          keeps  0.008197  1.602060  0.013132\n",
       "4           like  0.008197  1.602060  0.013132\n",
       "5           away  0.008197  1.602060  0.013132\n",
       "6        compare  0.008197  1.602060  0.013132\n",
       "7             an  0.040984  1.000000  0.040984\n",
       "8         prefer  0.008197  1.602060  0.013132\n",
       "9   scikit-learn  0.008197  1.602060  0.013132\n",
       "10        doctor  0.008197  1.602060  0.013132\n",
       "11           i'd  0.000000  1.602060  0.000000\n",
       "12        orange  0.016393  1.301030  0.021328\n",
       "13             a  0.114754  1.000000  0.114754\n",
       "14           the  0.008197  1.602060  0.013132\n",
       "15             i  0.024590  1.301030  0.031993\n",
       "16            to  0.024590  1.124939  0.027662"
      ]
     },
     "execution_count": 205,
     "metadata": {},
     "output_type": "execute_result"
    }
   ],
   "source": [
    "df"
   ]
  },
  {
   "cell_type": "code",
   "execution_count": 161,
   "metadata": {},
   "outputs": [],
   "source": [
    "tfidf = pd.Series(df.TFIDF.values,index=df.Words).to_dict()"
   ]
  },
  {
   "cell_type": "markdown",
   "metadata": {},
   "source": [
    "## Convert the TFIDF values into a matrix"
   ]
  },
  {
   "cell_type": "code",
   "execution_count": 217,
   "metadata": {},
   "outputs": [],
   "source": [
    "mat = []\n",
    "for i in k:\n",
    "    wor = i.split(' ')\n",
    "    el=[]\n",
    "    for j in e:\n",
    "        if j in wor:\n",
    "            el.append(tfidf[j])\n",
    "        else:\n",
    "            el.append(0)\n",
    "    mat.append(el)"
   ]
  },
  {
   "cell_type": "code",
   "execution_count": 231,
   "metadata": {},
   "outputs": [
    {
     "data": {
      "text/plain": [
       "['apple',\n",
       " 'never',\n",
       " 'day',\n",
       " 'keeps',\n",
       " 'like',\n",
       " 'away',\n",
       " 'compare',\n",
       " 'an',\n",
       " 'prefer',\n",
       " 'scikit-learn',\n",
       " 'doctor',\n",
       " \"i'd\",\n",
       " 'orange',\n",
       " 'a',\n",
       " 'the',\n",
       " 'i',\n",
       " 'to']"
      ]
     },
     "execution_count": 231,
     "metadata": {},
     "output_type": "execute_result"
    }
   ],
   "source": [
    "(e)"
   ]
  },
  {
   "cell_type": "code",
   "execution_count": 228,
   "metadata": {},
   "outputs": [
    {
     "data": {
      "text/plain": [
       "[0.003072264014958195,\n",
       " 0,\n",
       " 0,\n",
       " 0,\n",
       " 0.00493491796170461,\n",
       " 0,\n",
       " 0,\n",
       " 0.0,\n",
       " 0,\n",
       " 0,\n",
       " 0,\n",
       " 0.0,\n",
       " 0,\n",
       " 0,\n",
       " 0,\n",
       " 0,\n",
       " 0]"
      ]
     },
     "execution_count": 228,
     "metadata": {},
     "output_type": "execute_result"
    }
   ],
   "source": [
    "mat[0]"
   ]
  },
  {
   "cell_type": "markdown",
   "metadata": {},
   "source": [
    "## Cosine Similarity:\n",
    "\n",
    "The cosine similarity between two vectors (or two documents on the Vector Space) is a measure that calculates the cosine of the angle between them. This metric is a measurement of orientation and not magnitude, it can be seen as a comparison between documents on a normalized space because we’re not taking into the consideration only the magnitude of each word count (tf-idf) of each document, but the angle between the documents.\n",
    "\n"
   ]
  },
  {
   "cell_type": "code",
   "execution_count": 241,
   "metadata": {},
   "outputs": [
    {
     "name": "stdout",
     "output_type": "stream",
     "text": [
      "0.0\n"
     ]
    }
   ],
   "source": [
    "import scipy.spatial.distance as distance\n",
    "import numpy as np\n",
    "a = np.array(mat[0])\n",
    "b = np.array(mat[0])\n",
    "c = distance.cosine(a, b)\n",
    "print(c)"
   ]
  },
  {
   "cell_type": "code",
   "execution_count": 245,
   "metadata": {},
   "outputs": [
    {
     "data": {
      "text/plain": [
       "(\"i'd like an apple\", \"i'd like an apple\")"
      ]
     },
     "execution_count": 245,
     "metadata": {},
     "output_type": "execute_result"
    }
   ],
   "source": [
    "k[0],k[0]"
   ]
  },
  {
   "cell_type": "markdown",
   "metadata": {},
   "source": [
    "** Same Documents are just overlapping vectors and have a cosine distance of 0 **"
   ]
  },
  {
   "cell_type": "code",
   "execution_count": 243,
   "metadata": {},
   "outputs": [
    {
     "name": "stdout",
     "output_type": "stream",
     "text": [
      "1.0\n"
     ]
    }
   ],
   "source": [
    "a = np.array(mat[0])\n",
    "b = np.array(mat[3])\n",
    "c = distance.cosine(a, b)\n",
    "print(c)"
   ]
  },
  {
   "cell_type": "code",
   "execution_count": 244,
   "metadata": {},
   "outputs": [
    {
     "data": {
      "text/plain": [
       "(\"i'd like an apple\", 'i prefer scikit-learn to orange')"
      ]
     },
     "execution_count": 244,
     "metadata": {},
     "output_type": "execute_result"
    }
   ],
   "source": [
    "k[0],k[3]"
   ]
  },
  {
   "cell_type": "markdown",
   "metadata": {},
   "source": [
    "**Dissimilar Documents are the most far apart from each other**"
   ]
  },
  {
   "cell_type": "code",
   "execution_count": 246,
   "metadata": {},
   "outputs": [
    {
     "name": "stdout",
     "output_type": "stream",
     "text": [
      "0.19750828933028974\n"
     ]
    }
   ],
   "source": [
    "a = np.array(mat[0])\n",
    "b = np.array(mat[2])\n",
    "c = 1-distance.cosine(a, b)\n",
    "print(c)"
   ]
  },
  {
   "cell_type": "markdown",
   "metadata": {},
   "source": [
    "### Similarity =  1 - Cosine distance"
   ]
  },
  {
   "cell_type": "code",
   "execution_count": 249,
   "metadata": {},
   "outputs": [
    {
     "data": {
      "text/plain": [
       "(\"i'd like an apple\", 'never compare an apple to an orange')"
      ]
     },
     "execution_count": 249,
     "metadata": {},
     "output_type": "execute_result"
    }
   ],
   "source": [
    "k[0],k[2]"
   ]
  },
  {
   "cell_type": "markdown",
   "metadata": {},
   "source": [
    "## First and the third sentences are 19 % similar"
   ]
  },
  {
   "cell_type": "code",
   "execution_count": 248,
   "metadata": {},
   "outputs": [
    {
     "name": "stdout",
     "output_type": "stream",
     "text": [
      "0.14175292958921348\n"
     ]
    }
   ],
   "source": [
    "a = np.array(mat[0])\n",
    "b = np.array(mat[1])\n",
    "c = 1-distance.cosine(a, b)\n",
    "print(c)"
   ]
  },
  {
   "cell_type": "code",
   "execution_count": 250,
   "metadata": {},
   "outputs": [
    {
     "data": {
      "text/plain": [
       "(\"i'd like an apple\", 'an apple a day keeps the doctor away')"
      ]
     },
     "execution_count": 250,
     "metadata": {},
     "output_type": "execute_result"
    }
   ],
   "source": [
    "k[0],k[1]"
   ]
  },
  {
   "cell_type": "markdown",
   "metadata": {},
   "source": [
    "## First and the second sentences are 14% similar"
   ]
  }
 ],
 "metadata": {
  "kernelspec": {
   "display_name": "Python 3",
   "language": "python",
   "name": "python3"
  },
  "language_info": {
   "codemirror_mode": {
    "name": "ipython",
    "version": 3
   },
   "file_extension": ".py",
   "mimetype": "text/x-python",
   "name": "python",
   "nbconvert_exporter": "python",
   "pygments_lexer": "ipython3",
   "version": "3.6.3"
  }
 },
 "nbformat": 4,
 "nbformat_minor": 2
}
