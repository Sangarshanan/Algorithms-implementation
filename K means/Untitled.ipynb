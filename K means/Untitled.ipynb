{
 "cells": [
  {
   "cell_type": "markdown",
   "metadata": {},
   "source": [
    "<h1> ANALYSIS OF K-MEANS ALGORITHM"
   ]
  },
  {
   "cell_type": "markdown",
   "metadata": {},
   "source": [
    "K-means clustering is a type of unsupervised learning, which is used when you have unlabeled data (i.e., data without defined categories or groups). The goal of this algorithm is to find groups in the data, with the number of groups represented by the variable K. The algorithm works iteratively to assign each data point to one of K groups based on the features that are provided. Data points are clustered based on feature similarity. The results of the K-means clustering algorithm are:\n",
    "\n",
    "* The centroids of the K clusters, which can be used to label new data\n",
    "* Labels for the training data (each data point is assigned to a single cluster)\n",
    "\n",
    "Rather than defining groups before looking at the data, clustering allows you to find and analyze the groups that have formed organically. The \"Choosing K\" section below describes how the number of groups can be determined.  \n",
    "\n"
   ]
  },
  {
   "cell_type": "code",
   "execution_count": 1,
   "metadata": {
    "collapsed": true
   },
   "outputs": [],
   "source": [
    "import matplotlib.pyplot as plt\n",
    "import numpy as np\n",
    "from matplotlib import style\n",
    "import random\n",
    "from mpl_toolkits.mplot3d import Axes3D"
   ]
  },
  {
   "cell_type": "code",
   "execution_count": 2,
   "metadata": {
    "collapsed": true
   },
   "outputs": [],
   "source": [
    "with open(\"text.txt\", \"r\") as fd:\n",
    "    lines = fd.read().splitlines()"
   ]
  },
  {
   "cell_type": "code",
   "execution_count": 3,
   "metadata": {
    "collapsed": true
   },
   "outputs": [],
   "source": [
    "p=[]\n",
    "n = len(lines)\n",
    "for i in range(0,n):\n",
    "    s = (lines[i].split())\n",
    "    p.append(s)"
   ]
  },
  {
   "cell_type": "code",
   "execution_count": 4,
   "metadata": {},
   "outputs": [
    {
     "name": "stdout",
     "output_type": "stream",
     "text": [
      "[['0.1', '0.4', '0.2'], ['0.6', '0.1', '0.5'], ['0.4', '1.6', '0.9'], ['1.2', '3.4', '6.5'], ['9.2', '9.6', '8.6']]\n"
     ]
    }
   ],
   "source": [
    "print(p)"
   ]
  },
  {
   "cell_type": "code",
   "execution_count": 49,
   "metadata": {},
   "outputs": [
    {
     "data": {
      "text/plain": [
       "[[0.1, 0.4, 0.2],\n",
       " [0.6, 0.1, 0.5],\n",
       " [0.4, 1.6, 0.9],\n",
       " [1.2, 3.4, 6.5],\n",
       " [9.2, 9.6, 8.6]]"
      ]
     },
     "execution_count": 49,
     "metadata": {},
     "output_type": "execute_result"
    }
   ],
   "source": [
    "pts = []\n",
    "for i in range(0,n):\n",
    "    r = [float(i) for i in p[i]]\n",
    "    pts.append(r)\n",
    "pts    "
   ]
  },
  {
   "cell_type": "code",
   "execution_count": 6,
   "metadata": {},
   "outputs": [
    {
     "data": {
      "text/plain": [
       "[[0.1, 0.6, 0.4, 1.2, 9.2],\n",
       " [0.4, 0.1, 1.6, 3.4, 9.6],\n",
       " [0.2, 0.5, 0.9, 6.5, 8.6]]"
      ]
     },
     "execution_count": 6,
     "metadata": {},
     "output_type": "execute_result"
    }
   ],
   "source": [
    "coordinates = [list(i) for i in zip(*pts)]\n",
    "coordinates"
   ]
  },
  {
   "cell_type": "markdown",
   "metadata": {},
   "source": [
    "## Plotting the five points just to visualize it"
   ]
  },
  {
   "cell_type": "code",
   "execution_count": 7,
   "metadata": {},
   "outputs": [
    {
     "data": {
      "image/png": "[encoded data removed]",
      "text/plain": [
       "<matplotlib.figure.Figure at 0x218287fc390>"
      ]
     },
     "metadata": {},
     "output_type": "display_data"
    }
   ],
   "source": [
    "fig = plt.figure()\n",
    "ax = fig.add_subplot(111, projection='3d')\n",
    "\n",
    "x = coordinates[0]\n",
    "y = coordinates[1]\n",
    "z = coordinates[2]\n",
    "\n",
    "ax.scatter(x, y, z, c='b', marker='o')\n",
    "\n",
    "ax.set_xlabel('X')\n",
    "ax.set_ylabel('Y')\n",
    "ax.set_zlabel('Z')\n",
    "\n",
    "plt.show()\n"
   ]
  },
  {
   "cell_type": "code",
   "execution_count": 450,
   "metadata": {
    "collapsed": true
   },
   "outputs": [],
   "source": [
    "X = np.array(pts)"
   ]
  },
  {
   "cell_type": "markdown",
   "metadata": {},
   "source": [
    "# CALCULATION USING PREBUILT LIBRARIES"
   ]
  },
  {
   "cell_type": "code",
   "execution_count": 451,
   "metadata": {},
   "outputs": [
    {
     "name": "stdout",
     "output_type": "stream",
     "text": [
      "[[ 0.575  1.375  2.025]\n",
      " [ 9.2    9.6    8.6  ]]\n",
      "[0 0 0 0 1]\n"
     ]
    }
   ],
   "source": [
    "from sklearn.cluster import KMeans\n",
    "kmeans = KMeans(n_clusters=2)\n",
    "kmeans.fit(X)\n",
    "\n",
    "centroids = kmeans.cluster_centers_\n",
    "labels = kmeans.labels_\n",
    "\n",
    "print(centroids)\n",
    "print(labels)"
   ]
  },
  {
   "cell_type": "code",
   "execution_count": 448,
   "metadata": {},
   "outputs": [
    {
     "name": "stdout",
     "output_type": "stream",
     "text": [
      "coordinate: [ 0.1  0.4  0.2] label: 0\n",
      "coordinate: [ 0.6  0.1  0.5] label: 0\n",
      "coordinate: [ 0.4  1.6  0.9] label: 0\n",
      "coordinate: [ 1.2  3.4  6.5] label: 0\n",
      "coordinate: [ 9.2  9.6  8.6] label: 1\n"
     ]
    },
    {
     "data": {
      "image/png": "[encoded data removed]",
      "text/plain": [
       "<matplotlib.figure.Figure at 0x2182a3285c0>"
      ]
     },
     "metadata": {},
     "output_type": "display_data"
    }
   ],
   "source": [
    "colors = [\"g.\",\"r.\",\"c.\",\"y.\"]\n",
    "for i in range(len(X)):\n",
    "    print(\"coordinate:\",X[i], \"label:\", labels[i])\n",
    "    plt.plot(X[i][0], X[i][1], colors[labels[i]], markersize = 10)\n",
    "plt.scatter(centroids[:, 0],centroids[:, 1], marker = \"x\", s=150, linewidths = 5, zorder = 10)\n",
    "plt.show()"
   ]
  },
  {
   "cell_type": "markdown",
   "metadata": {},
   "source": [
    "# VERIFICATION USING TRADITIONAL CALCULATION"
   ]
  },
  {
   "cell_type": "code",
   "execution_count": 366,
   "metadata": {},
   "outputs": [
    {
     "data": {
      "text/plain": [
       "[[0.1, 0.4, 0.2],\n",
       " [0.6, 0.1, 0.5],\n",
       " [0.4, 1.6, 0.9],\n",
       " [1.2, 3.4, 6.5],\n",
       " [9.2, 9.6, 8.6]]"
      ]
     },
     "execution_count": 366,
     "metadata": {},
     "output_type": "execute_result"
    }
   ],
   "source": [
    "pts"
   ]
  },
  {
   "cell_type": "code",
   "execution_count": 57,
   "metadata": {
    "collapsed": true
   },
   "outputs": [],
   "source": [
    "coor = np.array(pts)"
   ]
  },
  {
   "cell_type": "markdown",
   "metadata": {},
   "source": [
    "## Randomly define k centroids"
   ]
  },
  {
   "cell_type": "code",
   "execution_count": 274,
   "metadata": {},
   "outputs": [
    {
     "data": {
      "text/plain": [
       "array([[ 0.6,  0.1,  0.5],\n",
       "       [ 9.2,  9.6,  8.6]])"
      ]
     },
     "execution_count": 274,
     "metadata": {},
     "output_type": "execute_result"
    }
   ],
   "source": [
    "k = 2 #defined by the user\n",
    "cen = []\n",
    "for i in range(0,k):\n",
    "    c = random.choice(pts)\n",
    "    cen.append(c)\n",
    "cen = np.array(cen)\n",
    "cen"
   ]
  },
  {
   "cell_type": "markdown",
   "metadata": {},
   "source": [
    "## Calculate the distance to each point from the centroids"
   ]
  },
  {
   "cell_type": "code",
   "execution_count": 249,
   "metadata": {
    "collapsed": true
   },
   "outputs": [],
   "source": [
    "a=[]\n",
    "b=[]\n",
    "for i in range(0,n):\n",
    "    for j in range(0,k):\n",
    "        dist = np.linalg.norm(cen[j]-coor[i])\n",
    "        a.append(dist)\n",
    "        clus = a.index(min(a))\n",
    "        b.append(clus)"
   ]
  },
  {
   "cell_type": "code",
   "execution_count": 271,
   "metadata": {},
   "outputs": [
    {
     "data": {
      "text/plain": [
       "2"
      ]
     },
     "execution_count": 271,
     "metadata": {},
     "output_type": "execute_result"
    }
   ],
   "source": [
    "k #number of points"
   ]
  },
  {
   "cell_type": "markdown",
   "metadata": {},
   "source": [
    "## Function to split array based on the number of clusters k"
   ]
  },
  {
   "cell_type": "code",
   "execution_count": 307,
   "metadata": {
    "collapsed": true
   },
   "outputs": [],
   "source": [
    "def split(arr, size):\n",
    "     arrs = []\n",
    "     while len(arr) > size:\n",
    "         pice = arr[:size]\n",
    "         arrs.append(pice)\n",
    "         arr   = arr[size:]\n",
    "     arrs.append(arr)\n",
    "     return arrs"
   ]
  },
  {
   "cell_type": "code",
   "execution_count": 312,
   "metadata": {
    "collapsed": true
   },
   "outputs": [],
   "source": [
    "a=[]\n",
    "b=[]\n",
    "for i in range(0,n):\n",
    "    for j in range(0,k):\n",
    "        dist = np.linalg.norm(cen[j]-coor[i])\n",
    "        a.append(dist)\n",
    "b = split(a, 2)"
   ]
  },
  {
   "cell_type": "markdown",
   "metadata": {},
   "source": [
    "## Distance of the five points from the two randomly defined centroid"
   ]
  },
  {
   "cell_type": "code",
   "execution_count": 325,
   "metadata": {
    "scrolled": true
   },
   "outputs": [
    {
     "data": {
      "text/plain": [
       "[[0.65574385243020006, 15.427572718998929],\n",
       " [0.0, 15.159815302304972],\n",
       " [1.5652475842498528, 14.16792151305194],\n",
       " [6.8738635424337602, 10.336827366266691],\n",
       " [15.159815302304972, 0.0]]"
      ]
     },
     "execution_count": 325,
     "metadata": {},
     "output_type": "execute_result"
    }
   ],
   "source": [
    "b"
   ]
  },
  {
   "cell_type": "code",
   "execution_count": 361,
   "metadata": {
    "collapsed": true
   },
   "outputs": [],
   "source": [
    "dic = {}\n",
    "for i in range(0,5):\n",
    "    ll = b[i].index(min(b[i]))\n",
    "    dic[i] = ll"
   ]
  },
  {
   "cell_type": "code",
   "execution_count": 362,
   "metadata": {},
   "outputs": [
    {
     "data": {
      "text/plain": [
       "{0: 0, 1: 0, 2: 0, 3: 0, 4: 1}"
      ]
     },
     "execution_count": 362,
     "metadata": {},
     "output_type": "execute_result"
    }
   ],
   "source": [
    "dic"
   ]
  },
  {
   "cell_type": "code",
   "execution_count": 390,
   "metadata": {
    "collapsed": true
   },
   "outputs": [],
   "source": [
    "clusters = list(dic.values())\n",
    "values = np.array(clusters)"
   ]
  },
  {
   "cell_type": "code",
   "execution_count": 371,
   "metadata": {},
   "outputs": [
    {
     "data": {
      "text/plain": [
       "5"
      ]
     },
     "execution_count": 371,
     "metadata": {},
     "output_type": "execute_result"
    }
   ],
   "source": [
    "n"
   ]
  },
  {
   "cell_type": "code",
   "execution_count": 395,
   "metadata": {},
   "outputs": [
    {
     "data": {
      "text/plain": [
       "[array([0, 1, 2, 3], dtype=int64), array([4], dtype=int64)]"
      ]
     },
     "execution_count": 395,
     "metadata": {},
     "output_type": "execute_result"
    }
   ],
   "source": [
    "ss=[]\n",
    "for i in range(0,k):\n",
    "    searchval = i\n",
    "    ii = np.where(values == searchval)[0]\n",
    "    ss.append(ii)\n",
    "ss"
   ]
  },
  {
   "cell_type": "code",
   "execution_count": 421,
   "metadata": {
    "collapsed": true
   },
   "outputs": [],
   "source": [
    "cluster1 = [pts[0],pts[1],pts[2],pts[3]]\n",
    "cluster2 = [pts[4]]"
   ]
  },
  {
   "cell_type": "code",
   "execution_count": 445,
   "metadata": {
    "collapsed": true
   },
   "outputs": [],
   "source": [
    "cluster1\n",
    "coo1 = [list(i) for i in zip(*cluster1)]\n",
    "centroid1 = [sum(coo1[i])/len(coo1[i]) for i in range(0,len(coo1))]\n",
    "coo2 = [list(i) for i in zip(*cluster2)]\n",
    "centroid2 = [sum(coo2[i])/len(coo2[i]) for i in range(0,len(coo2))]"
   ]
  },
  {
   "cell_type": "markdown",
   "metadata": {},
   "source": [
    "## CENTROID OBTAINED BY NORMAL CALCULATION"
   ]
  },
  {
   "cell_type": "code",
   "execution_count": 479,
   "metadata": {},
   "outputs": [
    {
     "data": {
      "text/plain": [
       "array([[ 0.575,  1.375,  2.025],\n",
       "       [ 9.2  ,  9.6  ,  8.6  ]])"
      ]
     },
     "execution_count": 479,
     "metadata": {},
     "output_type": "execute_result"
    }
   ],
   "source": [
    "centroid = [centroid1,centroid2]\n",
    "centroid = np.array(centroid)\n",
    "centroid"
   ]
  },
  {
   "cell_type": "markdown",
   "metadata": {},
   "source": [
    "#### Even after several iterations the centroid value does not change indicating that it is the correct centroid estimation"
   ]
  },
  {
   "cell_type": "code",
   "execution_count": 482,
   "metadata": {
    "collapsed": true
   },
   "outputs": [],
   "source": [
    "np.savetxt(\"centroid.txt\", centroid ,delimiter='\\t')"
   ]
  },
  {
   "cell_type": "markdown",
   "metadata": {
    "collapsed": true
   },
   "source": [
    "# OUR METHOD IS CORRECT "
   ]
  }
 ],
 "metadata": {
  "kernelspec": {
   "display_name": "Python 3",
   "language": "python",
   "name": "python3"
  },
  "language_info": {
   "codemirror_mode": {
    "name": "ipython",
    "version": 3
   },
   "file_extension": ".py",
   "mimetype": "text/x-python",
   "name": "python",
   "nbconvert_exporter": "python",
   "pygments_lexer": "ipython3",
   "version": "3.6.3"
  }
 },
 "nbformat": 4,
 "nbformat_minor": 2
}
