{
 "cells": [
  {
   "cell_type": "markdown",
   "metadata": {},
   "source": [
    "# LOGISTIC REGRESSION FROM SCRATCH 😀"
   ]
  },
  {
   "cell_type": "code",
   "execution_count": 1,
   "metadata": {
    "collapsed": true
   },
   "outputs": [],
   "source": [
    "import numpy as np \n",
    "import pandas as pd \n",
    "import random"
   ]
  },
  {
   "cell_type": "code",
   "execution_count": 2,
   "metadata": {
    "collapsed": true
   },
   "outputs": [],
   "source": [
    "df = pd.DataFrame(np.random.randint(low=0, high=100, size=(120, 2)), columns=['X', 'Y'])"
   ]
  },
  {
   "cell_type": "code",
   "execution_count": 3,
   "metadata": {
    "collapsed": true
   },
   "outputs": [],
   "source": [
    "df['Sum'] = df['X'] + df['Y']\n",
    "def classes(c):\n",
    "    if c['Sum'] > 80 :\n",
    "        return 'Even'\n",
    "    else:\n",
    "        return 'Odd'\n",
    "\n",
    "\n",
    "df['Class'] = df.apply(classes, axis=1)\n",
    "data=df.drop('Sum',axis=1)\n",
    "data['Class'] = data[['Class']].replace(['Odd','Even'],[1,0])"
   ]
  },
  {
   "cell_type": "markdown",
   "metadata": {},
   "source": [
    "### Sum is even => Class 0\n",
    "### Sum is odd    => Class 1"
   ]
  },
  {
   "cell_type": "code",
   "execution_count": 4,
   "metadata": {},
   "outputs": [
    {
     "data": {
      "text/html": [
       "<div>\n",
       "<style>\n",
       "    .dataframe thead tr:only-child th {\n",
       "        text-align: right;\n",
       "    }\n",
       "\n",
       "    .dataframe thead th {\n",
       "        text-align: left;\n",
       "    }\n",
       "\n",
       "    .dataframe tbody tr th {\n",
       "        vertical-align: top;\n",
       "    }\n",
       "</style>\n",
       "<table border=\"1\" class=\"dataframe\">\n",
       "  <thead>\n",
       "    <tr style=\"text-align: right;\">\n",
       "      <th></th>\n",
       "      <th>X</th>\n",
       "      <th>Y</th>\n",
       "      <th>Class</th>\n",
       "    </tr>\n",
       "  </thead>\n",
       "  <tbody>\n",
       "    <tr>\n",
       "      <th>0</th>\n",
       "      <td>73</td>\n",
       "      <td>40</td>\n",
       "      <td>0</td>\n",
       "    </tr>\n",
       "    <tr>\n",
       "      <th>1</th>\n",
       "      <td>92</td>\n",
       "      <td>53</td>\n",
       "      <td>0</td>\n",
       "    </tr>\n",
       "    <tr>\n",
       "      <th>2</th>\n",
       "      <td>76</td>\n",
       "      <td>72</td>\n",
       "      <td>0</td>\n",
       "    </tr>\n",
       "    <tr>\n",
       "      <th>3</th>\n",
       "      <td>97</td>\n",
       "      <td>6</td>\n",
       "      <td>0</td>\n",
       "    </tr>\n",
       "  </tbody>\n",
       "</table>\n",
       "</div>"
      ],
      "text/plain": [
       "    X   Y  Class\n",
       "0  73  40      0\n",
       "1  92  53      0\n",
       "2  76  72      0\n",
       "3  97   6      0"
      ]
     },
     "execution_count": 4,
     "metadata": {},
     "output_type": "execute_result"
    }
   ],
   "source": [
    "data.head(4)"
   ]
  },
  {
   "cell_type": "code",
   "execution_count": 5,
   "metadata": {},
   "outputs": [
    {
     "data": {
      "image/png": "[encoded data removed]",
      "text/plain": [
       "<Figure size 432x432 with 1 Axes>"
      ]
     },
     "metadata": {},
     "output_type": "display_data"
    }
   ],
   "source": [
    "import matplotlib.pyplot as plt\n",
    "import seaborn as sns\n",
    "sns.FacetGrid(data, hue=\"Class\", size=6).map(plt.scatter, \"X\", \"Y\")\n",
    "plt.show()"
   ]
  },
  {
   "cell_type": "markdown",
   "metadata": {},
   "source": [
    "# Logistic Regression:\n",
    "\n",
    "Logistic regression uses an equation as the representation, very much like linear regression.\n",
    "\n",
    "Input values (x) are combined linearly using weights or coefficient values (referred to as the Greek capital letter Beta) to predict an output value (y). A key difference from linear regression is that the output value being modeled is a binary values (0 or 1) rather than a numeric value.\n",
    "\n",
    "For this dataset, the logistic regression has three coefficients just like linear regression, for example:\n",
    "\n",
    "** output = b0 + b1*x1 +b2x2 **\n",
    "\n",
    "The job of the learning algorithm will be to discover the best values for the coefficients (b0, b1 and b2) based on the training data.\n",
    "\n",
    "Unlike linear regression, the output is transformed into a probability using the logistic function:\n",
    "\n",
    "** p(class=0) = 1 / (1 + e^(-output)) **\n",
    "\n"
   ]
  },
  {
   "cell_type": "code",
   "execution_count": 6,
   "metadata": {
    "collapsed": true
   },
   "outputs": [],
   "source": [
    "def sigmoid(z):\n",
    "    return 1.0 / (1 + np.exp(-z))"
   ]
  },
  {
   "cell_type": "markdown",
   "metadata": {},
   "source": [
    "Calculate the Predictions"
   ]
  },
  {
   "cell_type": "code",
   "execution_count": 7,
   "metadata": {},
   "outputs": [
    {
     "name": "stdout",
     "output_type": "stream",
     "text": [
      "0.5\n"
     ]
    }
   ],
   "source": [
    "# Assign the weights to zero\n",
    "b0 = 0 \n",
    "b1 = 0\n",
    "b2= 0\n",
    "\n",
    "#The inputs X1 ans X2\n",
    "x1 = 63\n",
    "x2 = 95\n",
    "\n",
    "#The output Class\n",
    "y = 0\n",
    "\n",
    "z = b0 + b1*x1 + b2*x2\n",
    "print(sigmoid(z))"
   ]
  },
  {
   "cell_type": "markdown",
   "metadata": {
    "collapsed": true
   },
   "source": [
    "## Updating Parameters\n",
    "We can calculate the new coefficient values using a simple update equation.\n",
    "\n",
    "**b = b + alpha * (y – prediction) * prediction * (1 – prediction) * x **\n",
    "\n",
    "Where b is the coefficient we are updating and prediction is the output of making a prediction using the model.\n",
    "\n",
    "\n",
    "You will notice that the B0 does not have an input. This coefficient is often called the bias or the intercept and we can assume it always has an input value of 1.0. \n"
   ]
  },
  {
   "cell_type": "code",
   "execution_count": 8,
   "metadata": {},
   "outputs": [
    {
     "name": "stdout",
     "output_type": "stream",
     "text": [
      "-0.0125 -0.7875000000000001 -1.1875\n"
     ]
    }
   ],
   "source": [
    "## ALPHA = 0.3\n",
    "\n",
    "b0 = b0 + 0.1 * (0-0.5) * 0.5 * (1 -0.5) * 1.0\n",
    "b1 = b1 + 0.1 * (0 - 0.5) * 0.5 * (1 - 0.5) * 63\n",
    "b2 = b2 + 0.1 * (0 - 0.5) * 0.5 * (1 - 0.5) * 95\n",
    "print(b0,b1,b2)"
   ]
  },
  {
   "cell_type": "markdown",
   "metadata": {
    "collapsed": true
   },
   "source": [
    "** This is just one iteration **"
   ]
  },
  {
   "cell_type": "code",
   "execution_count": 9,
   "metadata": {
    "collapsed": true
   },
   "outputs": [],
   "source": [
    "train = data[:100]"
   ]
  },
  {
   "cell_type": "code",
   "execution_count": 10,
   "metadata": {
    "collapsed": true
   },
   "outputs": [],
   "source": [
    "# Assign the weights to zero\n",
    "b0 = 0 \n",
    "b1 = 0\n",
    "b2= 0\n",
    "for i in range(1000):\n",
    "\n",
    "    for i in range(0,len(train)):\n",
    "\n",
    "        #The inputs X1 ans X2\n",
    "        x1 = train['X'][i]\n",
    "        x2 = train['Y'][i]\n",
    "\n",
    "        #The output Class\n",
    "        y = train['Class'][i]\n",
    "\n",
    "        #Prediction using Logistic regression\n",
    "        z = b0 + b1*x1 + b2*x2\n",
    "        prediction =(sigmoid(z))\n",
    "\n",
    "        #Alpha is 0.1(LEARNING RATE)\n",
    "\n",
    "        alpha = 0.1\n",
    "\n",
    "        #Update Parameters\n",
    "        b0 = b0 + alpha * (y - prediction) * prediction * (1 - prediction) * 1\n",
    "        b1 = b1 + alpha * (y - prediction) * prediction * (1 - prediction) * x1\n",
    "        b2 = b2 + alpha * (y - prediction) * prediction * (1 - prediction) * x2"
   ]
  },
  {
   "cell_type": "code",
   "execution_count": 38,
   "metadata": {
    "collapsed": true
   },
   "outputs": [],
   "source": [
    "def predict(x,y):\n",
    "    if (b0 + b1*x + b2*y) < 30:\n",
    "        return (\"1\")\n",
    "    else:\n",
    "        return (\"0\")"
   ]
  },
  {
   "cell_type": "markdown",
   "metadata": {},
   "source": [
    "### Test Predictions after training the weights"
   ]
  },
  {
   "cell_type": "code",
   "execution_count": 12,
   "metadata": {
    "collapsed": true
   },
   "outputs": [],
   "source": [
    "test = data[100:120]"
   ]
  },
  {
   "cell_type": "code",
   "execution_count": 42,
   "metadata": {
    "collapsed": true
   },
   "outputs": [],
   "source": [
    "p=[]\n",
    "for i in range(100,120):\n",
    "    p.append(predict(test['X'][i],test['Y'][i]))"
   ]
  },
  {
   "cell_type": "code",
   "execution_count": 63,
   "metadata": {
    "collapsed": true
   },
   "outputs": [],
   "source": [
    "p= [int(i) for i in p]"
   ]
  },
  {
   "cell_type": "code",
   "execution_count": 46,
   "metadata": {
    "collapsed": true
   },
   "outputs": [],
   "source": [
    "a=list(test['Class'])"
   ]
  },
  {
   "cell_type": "markdown",
   "metadata": {},
   "source": [
    "### Calculating test Accuracy "
   ]
  },
  {
   "cell_type": "code",
   "execution_count": 66,
   "metadata": {
    "collapsed": true
   },
   "outputs": [],
   "source": [
    "right =0\n",
    "wrong =0\n",
    "for i in range(0,len(a)):\n",
    "    if a[i] == p[i]:\n",
    "        right+=1\n",
    "    else:\n",
    "        wrong+=1"
   ]
  },
  {
   "cell_type": "code",
   "execution_count": 80,
   "metadata": {},
   "outputs": [
    {
     "name": "stdout",
     "output_type": "stream",
     "text": [
      "ACCURACY ON TEST DATA: 90.0 %\n"
     ]
    }
   ],
   "source": [
    "print(\"ACCURACY ON TEST DATA:\",right/len(a) * 100,\"%\")"
   ]
  },
  {
   "cell_type": "code",
   "execution_count": 74,
   "metadata": {
    "collapsed": true
   },
   "outputs": [],
   "source": [
    "def graph(formula, x_range):  \n",
    "    x = np.array(x_range)  \n",
    "    y = eval(formula)\n",
    "    plt.plot(x, y)  \n",
    "    plt.show()"
   ]
  },
  {
   "cell_type": "code",
   "execution_count": null,
   "metadata": {},
   "outputs": [],
   "source": []
  },
  {
   "cell_type": "code",
   "execution_count": 83,
   "metadata": {},
   "outputs": [
    {
     "data": {
      "text/plain": [
       "<Figure size 720x432 with 0 Axes>"
      ]
     },
     "metadata": {},
     "output_type": "display_data"
    },
    {
     "data": {
      "image/png": "[encoded data removed]",
      "text/plain": [
       "<Figure size 432x432 with 1 Axes>"
      ]
     },
     "metadata": {},
     "output_type": "display_data"
    }
   ],
   "source": [
    "plt.figure(figsize=(10,6))\n",
    " \n",
    "# Create plot\n",
    "sns.FacetGrid(data, hue=\"Class\", size=6).map(plt.scatter, \"X\", \"Y\")\n",
    " \n",
    "graph('0.13461173599202347 + 0.597706770357658*x + 0.30706420343938673*y', range(0, 100))"
   ]
  },
  {
   "cell_type": "markdown",
   "metadata": {},
   "source": [
    "## Still needs a whole lot of improvement....but this is just to get the basic idea :😀"
   ]
  }
 ],
 "metadata": {
  "kernelspec": {
   "display_name": "Python 3",
   "language": "python",
   "name": "python3"
  },
  "language_info": {
   "codemirror_mode": {
    "name": "ipython",
    "version": 3
   },
   "file_extension": ".py",
   "mimetype": "text/x-python",
   "name": "python",
   "nbconvert_exporter": "python",
   "pygments_lexer": "ipython3",
   "version": "3.6.3"
  }
 },
 "nbformat": 4,
 "nbformat_minor": 2
}
