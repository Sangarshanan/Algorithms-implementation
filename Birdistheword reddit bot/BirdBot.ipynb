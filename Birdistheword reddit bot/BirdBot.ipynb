{
 "cells": [
  {
   "cell_type": "markdown",
   "metadata": {},
   "source": [
    "# BIRD IS THE WORD REDDITBOT "
   ]
  },
  {
   "cell_type": "markdown",
   "metadata": {},
   "source": [
    "![alt text](https://media.giphy.com/media/ysnrvDaPIGXRK/giphy.gif)"
   ]
  },
  {
   "cell_type": "code",
   "execution_count": 1,
   "metadata": {},
   "outputs": [],
   "source": [
    "import praw\n",
    "####INFO HAS BEEN REDACTED\n",
    "reddit = praw.Reddit(client_id='',\n",
    "                     client_secret='',\n",
    "                     password='',\n",
    "                     user_agent = '',\n",
    "                     username=''\n",
    "                    )"
   ]
  },
  {
   "cell_type": "code",
   "execution_count": 34,
   "metadata": {},
   "outputs": [
    {
     "name": "stdout",
     "output_type": "stream",
     "text": [
      "sangarshanan\n"
     ]
    }
   ],
   "source": [
    "print(reddit.user.me())"
   ]
  },
  {
   "cell_type": "code",
   "execution_count": 36,
   "metadata": {},
   "outputs": [],
   "source": [
    "subreddit = reddit.subreddit(\"familyguy\")"
   ]
  },
  {
   "cell_type": "code",
   "execution_count": 41,
   "metadata": {},
   "outputs": [
    {
     "name": "stdout",
     "output_type": "stream",
     "text": [
      "I checked and it’s not on US Netflix \n",
      "It was 2 episodes I think so I thought they were always part 1 and 2\n",
      "?\n",
      "Lmfao that is great \n",
      "10 minutes of farting, snoring and burping, eating chocolate and cheeseburgers, then a chair breaks.\n",
      "\n",
      "\"Welp....I think we've accomplished a lot today.\"\n",
      "Paramedics come on down!!!!  Heheheheheheheh....\n",
      "What is it supposed to be \n",
      "What region? Similar to a previous comment, I don’t see it on US Netflix \n",
      "Why the 😬?\n",
      "When I saw this scene for the first time, I swore someone was going to look through the window and see Lois beating a man with an afro, and assume she was committing a hate crime.\n",
      "Vibrator 😂\n",
      "One of her best news reports \n",
      "r/mildlypenis \n",
      "I honestly swear the writing team has a camera in my house\n",
      "Just beat the devil out of it\n",
      "Oh I was under the impression that everyone had heard\n",
      "But have you heard that the Bird is the word\n"
     ]
    }
   ],
   "source": [
    "import re\n",
    "for comment in subreddit.stream.comments():\n",
    "    print(comment.body)\n",
    "    if re.search(\"heard\", comment.body, re.IGNORECASE):\n",
    "            rep = \"But have you heard that the Bird is the word\"\n",
    "            comment.reply(rep)\n",
    "            print(rep)\n",
    "            break"
   ]
  },
  {
   "cell_type": "markdown",
   "metadata": {},
   "source": [
    "_Oh I was under the impression that everyone had heard\n",
    "\n",
    "_But have you heard that the Bird is the word\n"
   ]
  }
 ],
 "metadata": {
  "kernelspec": {
   "display_name": "Python 3",
   "language": "python",
   "name": "python3"
  },
  "language_info": {
   "codemirror_mode": {
    "name": "ipython",
    "version": 3
   },
   "file_extension": ".py",
   "mimetype": "text/x-python",
   "name": "python",
   "nbconvert_exporter": "python",
   "pygments_lexer": "ipython3",
   "version": "3.7.1"
  }
 },
 "nbformat": 4,
 "nbformat_minor": 2
}
